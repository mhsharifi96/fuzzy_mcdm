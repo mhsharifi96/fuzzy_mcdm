{
 "cells": [
  {
   "cell_type": "markdown",
   "metadata": {},
   "source": [
    "# محاسبه تاپسیس فازی"
   ]
  },
  {
   "cell_type": "code",
   "execution_count": 3,
   "metadata": {},
   "outputs": [],
   "source": [
    "import  numpy as np\n",
    "import math"
   ]
  },
  {
   "cell_type": "code",
   "execution_count": 4,
   "metadata": {},
   "outputs": [],
   "source": [
    "# نوشتن وزن ها علامت ها و اعدادی که باید به ان تقسیم شود\n",
    "# منظور از \n",
    "division_number = [10,10,10,10]\n",
    "sign = [\"+\",\"+\",\"+\",\"+\"]\n",
    "weight = np.array([[0.8,0.9,1],[0.7,0.8,0.9],[0.8,0.9,1],[0.7,0.8,1]],dtype=float)"
   ]
  },
  {
   "cell_type": "code",
   "execution_count": 8,
   "metadata": {},
   "outputs": [],
   "source": [
    "#  ماتریس صورت مسئله\n",
    "matrix = np.array([\n",
    "    [[7,9,10],[6,7,9],[4,6,8],[5,7,8]],\n",
    "    [[5,6,8],[4,5,8],[6,9,10],[6,7,8]],\n",
    "    [[6,7,9],[8,9,10],[6,7,8],[6,8,10]],\n",
    "],dtype=\"float\")\n"
   ]
  },
  {
   "cell_type": "code",
   "execution_count": 9,
   "metadata": {},
   "outputs": [],
   "source": [
    "# فرایند نرمال سازی ماتریس\n",
    "normal_matrix1=[]\n",
    "for index,row in enumerate(matrix):\n",
    "    for idx,col in enumerate(row):\n",
    "        if sign[idx]==\"+\":\n",
    "          res = np.array(col, dtype=np.float32)/division_number[idx]\n",
    "        \n",
    "        else: res = division_number[idx]/np.array(col, dtype=np.float32)\n",
    "#         print(res)\n",
    "        normal_matrix1.append(res)\n",
    "#     print(\"---------\")\n",
    "#     print(normal_matrix)"
   ]
  },
  {
   "cell_type": "code",
   "execution_count": 11,
   "metadata": {},
   "outputs": [
    {
     "name": "stdout",
     "output_type": "stream",
     "text": [
      "[[[0.69999999 0.89999998 1.        ]\n",
      "  [0.60000002 0.69999999 0.89999998]\n",
      "  [0.40000001 0.60000002 0.80000001]\n",
      "  [0.5        0.69999999 0.80000001]]\n",
      "\n",
      " [[0.5        0.60000002 0.80000001]\n",
      "  [0.40000001 0.5        0.80000001]\n",
      "  [0.60000002 0.89999998 1.        ]\n",
      "  [0.60000002 0.69999999 0.80000001]]\n",
      "\n",
      " [[0.60000002 0.69999999 0.89999998]\n",
      "  [0.80000001 0.89999998 1.        ]\n",
      "  [0.60000002 0.69999999 0.80000001]\n",
      "  [0.60000002 0.80000001 1.        ]]]\n"
     ]
    }
   ],
   "source": [
    "# ماتریس R\n",
    "# ماتریس نرمال شده \n",
    "normal_matrix =np.reshape(np.asarray(normal_matrix1, dtype=float),matrix.shape)\n",
    "print(normal_matrix)"
   ]
  },
  {
   "cell_type": "code",
   "execution_count": 12,
   "metadata": {},
   "outputs": [],
   "source": [
    "w_matrix = []\n",
    "for nrow in normal_matrix:\n",
    "    for index,col in enumerate(nrow):\n",
    "        res = col*weight[index]\n",
    "        w_matrix.append(res)"
   ]
  },
  {
   "cell_type": "code",
   "execution_count": 15,
   "metadata": {},
   "outputs": [
    {
     "data": {
      "text/plain": [
       "array([[[0.55999999, 0.80999998, 1.        ],\n",
       "        [0.42000002, 0.55999999, 0.80999998],\n",
       "        [0.32      , 0.54000002, 0.80000001],\n",
       "        [0.35      , 0.55999999, 0.80000001]],\n",
       "\n",
       "       [[0.4       , 0.54000002, 0.80000001],\n",
       "        [0.28      , 0.4       , 0.72000001],\n",
       "        [0.48000002, 0.80999998, 1.        ],\n",
       "        [0.42000002, 0.55999999, 0.80000001]],\n",
       "\n",
       "       [[0.48000002, 0.62999999, 0.89999998],\n",
       "        [0.56000001, 0.71999998, 0.9       ],\n",
       "        [0.48000002, 0.62999999, 0.80000001],\n",
       "        [0.42000002, 0.64000001, 1.        ]]])"
      ]
     },
     "execution_count": 15,
     "metadata": {},
     "output_type": "execute_result"
    }
   ],
   "source": [
    "# ماتریس v\n",
    "# ماتریس نرمال شده ضرب در ماتریس وزن ها\n",
    "# ماتریس موزون\n",
    "w_matrix=np.reshape(np.asarray(w_matrix, dtype=float),(3,4,3))\n",
    "w_matrix"
   ]
  },
  {
   "cell_type": "code",
   "execution_count": 16,
   "metadata": {},
   "outputs": [],
   "source": [
    "# ایده ال مثبت\n",
    "# find max col in above matrix\n",
    "positve_ideal = [\n",
    "    [0.55999999, 0.80999998, 1.        ],\n",
    "    [0.56000001, 0.71999998, 0.9       ],\n",
    "    [0.48000002, 0.80999998, 1.        ],\n",
    "    [0.42000002, 0.64000001, 1.        ]\n",
    "]"
   ]
  },
  {
   "cell_type": "code",
   "execution_count": 18,
   "metadata": {},
   "outputs": [],
   "source": [
    "# ایده ال منفی\n",
    "# find min col in above matrix\n",
    "negetive_ideal = [\n",
    "    [0.4       , 0.54000002, 0.80000001],\n",
    "    [0.28      , 0.4       , 0.72000001],\n",
    "    [0.32      , 0.54000002, 0.80000001],\n",
    "    [0.35      , 0.55999999, 0.80000001],\n",
    "\n",
    "]"
   ]
  },
  {
   "cell_type": "code",
   "execution_count": 19,
   "metadata": {},
   "outputs": [],
   "source": [
    "def distance(a,b):\n",
    "    res = math.sqrt(\n",
    "        (1/3*\n",
    "                       (\n",
    "                           pow((a[0]-b[0]),2)\n",
    "                          +pow((a[1]-b[1]),2)\n",
    "                          +pow((a[2]-b[2]),2)\n",
    "                       )\n",
    "        )\n",
    "                   )\n",
    "    return res\n",
    "    "
   ]
  },
  {
   "cell_type": "code",
   "execution_count": 20,
   "metadata": {},
   "outputs": [
    {
     "name": "stdout",
     "output_type": "stream",
     "text": [
      "d 1 :\n",
      "مقدار ایده ال مثبت : 0.47892291009614146\n",
      "مقدار ایده ال منفی : 0.3481559347515995\n",
      "محاسبه دوری 0.42094648765401854\n",
      "----------------\n",
      "d 2 :\n",
      "مقدار ایده ال مثبت : 0.6058126394822346\n",
      "مقدار ایده ال منفی : 0.25527881484253523\n",
      "محاسبه دوری 0.29645958458932065\n",
      "----------------\n",
      "d 3 :\n",
      "مقدار ایده ال مثبت : 0.28288990255411456\n",
      "مقدار ایده ال منفی : 0.5937072994107708\n",
      "محاسبه دوری 0.6772863272663668\n",
      "----------------\n"
     ]
    }
   ],
   "source": [
    "for rowIndex,row in enumerate(w_matrix) :\n",
    "    sum_positve_ideal = float(0)\n",
    "    sum_negetive_ideal = float(0)\n",
    "    for idx,col in enumerate(row) : \n",
    "        sum_positve_ideal += distance(col,positve_ideal[idx])\n",
    "        sum_negetive_ideal += distance(col,negetive_ideal[idx])\n",
    "        \n",
    "    C_distance = (sum_negetive_ideal/(sum_negetive_ideal+sum_positve_ideal))\n",
    "    print('d',rowIndex+1,':')\n",
    "    print(\"مقدار ایده ال مثبت :\",sum_positve_ideal )\n",
    "    print('مقدار ایده ال منفی :',sum_negetive_ideal)\n",
    "    print(\"محاسبه دوری\",C_distance)\n",
    "    print('----------------')\n",
    "        \n",
    "    \n",
    "   "
   ]
  },
  {
   "cell_type": "code",
   "execution_count": 21,
   "metadata": {},
   "outputs": [
    {
     "name": "stdout",
     "output_type": "stream",
     "text": [
      "0.1355544171172596\n"
     ]
    }
   ],
   "source": [
    "distance([0.48, 0.54, 0.6],[0.6,0.675,0.75])"
   ]
  }
 ],
 "metadata": {
  "kernelspec": {
   "display_name": "Python 3",
   "language": "python",
   "name": "python3"
  },
  "language_info": {
   "codemirror_mode": {
    "name": "ipython",
    "version": 3
   },
   "file_extension": ".py",
   "mimetype": "text/x-python",
   "name": "python",
   "nbconvert_exporter": "python",
   "pygments_lexer": "ipython3",
   "version": "3.8.5"
  }
 },
 "nbformat": 4,
 "nbformat_minor": 4
}
