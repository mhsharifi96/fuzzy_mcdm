{
 "cells": [
  {
   "cell_type": "markdown",
   "metadata": {},
   "source": [
    "#FASW"
   ]
  },
  {
   "cell_type": "code",
   "execution_count": 2,
   "metadata": {},
   "outputs": [],
   "source": [
    "import  numpy as np"
   ]
  },
  {
   "cell_type": "code",
   "execution_count": 17,
   "metadata": {},
   "outputs": [],
   "source": [
    "# نوشتن وزن ها علامت ها و اعدادی که باید به ان تقسیم شود\n",
    "sign_number = [10,10,10,10,5]\n",
    "sign = [\"+\",\"+\",\"+\",\"+\",\"-\"]\n",
    "weight = np.array([[0.7,0.9,1],[0.7,0.8,0.9],[0.6,0.7,0.8],[0.8,0.9,1],[0.5,0.7,0.9]],dtype=float)"
   ]
  },
  {
   "cell_type": "code",
   "execution_count": 18,
   "metadata": {},
   "outputs": [],
   "source": [
    "# ماتریس اصلی\n",
    "matrix = np.array([\n",
    "    [[6,7,8],[7,9,10],[6,7,9],[4,6,8],[5,7,8]],\n",
    "    [[6,8,10],[5,6,8],[4,5,8],[6,9,10],[6,7,8]],\n",
    "    [[5,7,8],[6,7,9],[8,9,10],[6,7,8],[6,8,10]]\n",
    "],dtype=\"object\")"
   ]
  },
  {
   "cell_type": "code",
   "execution_count": 19,
   "metadata": {},
   "outputs": [],
   "source": [
    "normal_matrix1=[]\n",
    "for index,row in enumerate(matrix):\n",
    "#    print(row[:,index].astype(float)/sign[index])\n",
    "    for idx,col in enumerate(row):\n",
    "        if sign[idx]==\"+\":\n",
    "          res = np.array(col, dtype=np.float32)/sign_number[idx]\n",
    "        \n",
    "        else: res = sign_number[idx]/np.array(col, dtype=np.float32)\n",
    "#         print(res)\n",
    "        normal_matrix1.append(res)\n",
    "#     print(\"---------\")\n",
    "#     print(normal_matrix)"
   ]
  },
  {
   "cell_type": "code",
   "execution_count": 20,
   "metadata": {},
   "outputs": [
    {
     "data": {
      "text/plain": [
       "array([[[0.6000000238418579, 0.699999988079071, 0.800000011920929],\n",
       "        [0.699999988079071, 0.8999999761581421, 1.0],\n",
       "        [0.6000000238418579, 0.699999988079071, 0.8999999761581421],\n",
       "        [0.4000000059604645, 0.6000000238418579, 0.800000011920929],\n",
       "        [1.0, 0.7142857313156128, 0.625]],\n",
       "\n",
       "       [[0.6000000238418579, 0.800000011920929, 1.0],\n",
       "        [0.5, 0.6000000238418579, 0.800000011920929],\n",
       "        [0.4000000059604645, 0.5, 0.800000011920929],\n",
       "        [0.6000000238418579, 0.8999999761581421, 1.0],\n",
       "        [0.8333333134651184, 0.7142857313156128, 0.625]],\n",
       "\n",
       "       [[0.5, 0.699999988079071, 0.800000011920929],\n",
       "        [0.6000000238418579, 0.699999988079071, 0.8999999761581421],\n",
       "        [0.800000011920929, 0.8999999761581421, 1.0],\n",
       "        [0.6000000238418579, 0.699999988079071, 0.800000011920929],\n",
       "        [0.8333333134651184, 0.625, 0.5]]], dtype=object)"
      ]
     },
     "execution_count": 20,
     "metadata": {},
     "output_type": "execute_result"
    }
   ],
   "source": [
    "#ماتریس نرمال\n",
    "normal_matrix =np.reshape(np.asarray(normal_matrix1, dtype=object),matrix.shape)\n",
    "normal_matrix"
   ]
  },
  {
   "cell_type": "code",
   "execution_count": 21,
   "metadata": {},
   "outputs": [],
   "source": [
    "w_matrix = []\n",
    "for nrow in normal_matrix:\n",
    "    for index,col in enumerate(nrow):\n",
    "        res = col*weight[index]\n",
    "        w_matrix.append(res)"
   ]
  },
  {
   "cell_type": "code",
   "execution_count": 22,
   "metadata": {},
   "outputs": [
    {
     "data": {
      "text/plain": [
       "array([[[0.42000002, 0.62999999, 0.80000001],\n",
       "        [0.48999999, 0.71999998, 0.9       ],\n",
       "        [0.36000001, 0.48999999, 0.71999998],\n",
       "        [0.32      , 0.54000002, 0.80000001],\n",
       "        [0.5       , 0.50000001, 0.5625    ]],\n",
       "\n",
       "       [[0.42000002, 0.72000001, 1.        ],\n",
       "        [0.35      , 0.48000002, 0.72000001],\n",
       "        [0.24      , 0.35      , 0.64000001],\n",
       "        [0.48000002, 0.80999998, 1.        ],\n",
       "        [0.41666666, 0.50000001, 0.5625    ]],\n",
       "\n",
       "       [[0.35      , 0.62999999, 0.80000001],\n",
       "        [0.42000002, 0.55999999, 0.80999998],\n",
       "        [0.48000001, 0.62999998, 0.8       ],\n",
       "        [0.48000002, 0.62999999, 0.80000001],\n",
       "        [0.41666666, 0.4375    , 0.45      ]]])"
      ]
     },
     "execution_count": 22,
     "metadata": {},
     "output_type": "execute_result"
    }
   ],
   "source": [
    "# ضرب ماتریس نرمال در وزن ها \n",
    "w_matrix=np.reshape(np.asarray(w_matrix, dtype=float),(3,5,3))\n",
    "w_matrix"
   ]
  },
  {
   "cell_type": "code",
   "execution_count": 23,
   "metadata": {
    "scrolled": true
   },
   "outputs": [
    {
     "data": {
      "text/plain": [
       "[array([2.09000003, 2.88      , 3.7825    ]),\n",
       " array([1.9066667 , 2.86000002, 3.92250002]),\n",
       " array([2.1466667 , 2.88749995, 3.66      ])]"
      ]
     },
     "execution_count": 23,
     "metadata": {},
     "output_type": "execute_result"
    }
   ],
   "source": [
    "# جمع ردیف ها با یکدیگر\n",
    "# جمع کردن سطحی \n",
    "sum_row = [sum(row) for row in w_matrix ]\n",
    "sum_row"
   ]
  },
  {
   "cell_type": "code",
   "execution_count": 24,
   "metadata": {},
   "outputs": [],
   "source": [
    "# تابع روش مساحت \n",
    "def fuzzy_p(pa,pb):\n",
    "    print(pa[0]-pb[2],pa[1]-pb[1],pa[2]-pb[0])"
   ]
  },
  {
   "cell_type": "code",
   "execution_count": 25,
   "metadata": {},
   "outputs": [
    {
     "name": "stdout",
     "output_type": "stream",
     "text": [
      "-1.5699999749660498 -0.007499957084655673 1.6358333051204683\n"
     ]
    }
   ],
   "source": [
    "fuzzy_p(sum_row[0],sum_row[2])"
   ]
  },
  {
   "cell_type": "code",
   "execution_count": 26,
   "metadata": {},
   "outputs": [
    {
     "name": "stdout",
     "output_type": "stream",
     "text": [
      "-1.8324999928474428 0.01999997496604866 1.875833308696747\n"
     ]
    }
   ],
   "source": [
    "fuzzy_p(sum_row[0],sum_row[1])"
   ]
  },
  {
   "cell_type": "code",
   "execution_count": 27,
   "metadata": {},
   "outputs": [
    {
     "name": "stdout",
     "output_type": "stream",
     "text": [
      "-1.7533333063125616 -0.027499932050704334 1.775833320617676\n"
     ]
    }
   ],
   "source": [
    "fuzzy_p(sum_row[1],sum_row[2])"
   ]
  }
 ],
 "metadata": {
  "kernelspec": {
   "display_name": "Python 3",
   "language": "python",
   "name": "python3"
  },
  "language_info": {
   "codemirror_mode": {
    "name": "ipython",
    "version": 3
   },
   "file_extension": ".py",
   "mimetype": "text/x-python",
   "name": "python",
   "nbconvert_exporter": "python",
   "pygments_lexer": "ipython3",
   "version": "3.8.5"
  }
 },
 "nbformat": 4,
 "nbformat_minor": 4
}
