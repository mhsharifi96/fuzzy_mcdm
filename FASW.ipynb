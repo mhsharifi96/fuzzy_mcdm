{
 "cells": [
  {
   "cell_type": "code",
   "execution_count": 160,
   "metadata": {},
   "outputs": [],
   "source": [
    "import  numpy as np"
   ]
  },
  {
   "cell_type": "code",
   "execution_count": 161,
   "metadata": {},
   "outputs": [],
   "source": [
    "# نوشتن وزن ها علامت ها و اعدادی که باید به ان تقسیم شود\n",
    "sign_number = [400,10,10,10,10]\n",
    "sign = [\"-\",\"+\",\"+\",\"+\",\"+\",]\n",
    "weight = np.array([[0.83,0.97,1],[0.7,0.9,1],[0.57,0.77,0.93],[0.5,0.7,0.9],[0.7,0.9,1]],dtype=float)"
   ]
  },
  {
   "cell_type": "code",
   "execution_count": 162,
   "metadata": {},
   "outputs": [],
   "source": [
    "# ماتریس اصلی\n",
    "matrix = np.array([\n",
    "    [[700],[6.3,8,9],[5.7,7.7,9],[7,9,10],[3,5,7]],\n",
    "    [[400],[6,10,10],[7,9,10],[7,9,10],[5,7,9]],\n",
    "    [[500],[7,9,10],[7,9,10],[8,9,10],[7,9,10]]\n",
    "],dtype=\"object\")"
   ]
  },
  {
   "cell_type": "code",
   "execution_count": 169,
   "metadata": {},
   "outputs": [],
   "source": [
    "normal_matrix1=[]\n",
    "for index,row in enumerate(matrix):\n",
    "#    print(row[:,index].astype(float)/sign[index])\n",
    "    for idx,col in enumerate(row):\n",
    "        if sign[idx]==\"+\":\n",
    "          res = np.array(col, dtype=np.float32)/sign_number[idx]\n",
    "        \n",
    "        else: res = sign_number[idx]/np.array(col, dtype=np.float32)\n",
    "#         print(res)\n",
    "        normal_matrix1.append(res)\n",
    "#     print(\"---------\")\n",
    "#     print(normal_matrix)"
   ]
  },
  {
   "cell_type": "code",
   "execution_count": 171,
   "metadata": {},
   "outputs": [
    {
     "data": {
      "text/plain": [
       "array([[array([0.5714286], dtype=float32),\n",
       "        array([0.63, 0.8 , 0.9 ], dtype=float32),\n",
       "        array([0.57, 0.77, 0.9 ], dtype=float32),\n",
       "        array([0.7, 0.9, 1. ], dtype=float32),\n",
       "        array([0.3, 0.5, 0.7], dtype=float32)],\n",
       "       [array([1.], dtype=float32),\n",
       "        array([0.6, 1. , 1. ], dtype=float32),\n",
       "        array([0.7, 0.9, 1. ], dtype=float32),\n",
       "        array([0.7, 0.9, 1. ], dtype=float32),\n",
       "        array([0.5, 0.7, 0.9], dtype=float32)],\n",
       "       [array([0.8], dtype=float32),\n",
       "        array([0.7, 0.9, 1. ], dtype=float32),\n",
       "        array([0.7, 0.9, 1. ], dtype=float32),\n",
       "        array([0.8, 0.9, 1. ], dtype=float32),\n",
       "        array([0.7, 0.9, 1. ], dtype=float32)]], dtype=object)"
      ]
     },
     "execution_count": 171,
     "metadata": {},
     "output_type": "execute_result"
    }
   ],
   "source": [
    "#ماتریس نرمال\n",
    "normal_matrix =np.reshape(np.asarray(normal_matrix1, dtype=object),matrix.shape)\n",
    "normal_matrix"
   ]
  },
  {
   "cell_type": "code",
   "execution_count": 172,
   "metadata": {},
   "outputs": [],
   "source": [
    "w_matrix = []\n",
    "for nrow in normal_matrix:\n",
    "    for index,col in enumerate(nrow):\n",
    "        res = col*weight[index]\n",
    "        w_matrix.append(res)"
   ]
  },
  {
   "cell_type": "code",
   "execution_count": 175,
   "metadata": {},
   "outputs": [
    {
     "data": {
      "text/plain": [
       "array([[[0.47428574, 0.55428574, 0.5714286 ],\n",
       "        [0.441     , 0.72000001, 0.89999998],\n",
       "        [0.3249    , 0.59289999, 0.83699998],\n",
       "        [0.34999999, 0.62999998, 0.9       ],\n",
       "        [0.21000001, 0.45      , 0.69999999]],\n",
       "\n",
       "       [[0.83      , 0.97      , 1.        ],\n",
       "        [0.42000002, 0.9       , 1.        ],\n",
       "        [0.39899999, 0.69299998, 0.93      ],\n",
       "        [0.34999999, 0.62999998, 0.9       ],\n",
       "        [0.35      , 0.62999999, 0.89999998]],\n",
       "\n",
       "       [[0.66400001, 0.77600001, 0.80000001],\n",
       "        [0.48999999, 0.80999998, 1.        ],\n",
       "        [0.39899999, 0.69299998, 0.93      ],\n",
       "        [0.40000001, 0.62999998, 0.9       ],\n",
       "        [0.48999999, 0.80999998, 1.        ]]])"
      ]
     },
     "execution_count": 175,
     "metadata": {},
     "output_type": "execute_result"
    }
   ],
   "source": [
    "# ضرب ماتریس نرمال در وزن ها \n",
    "w_matrix=np.reshape(np.asarray(w_matrix, dtype=float),(3,5,3))\n",
    "w_matrix"
   ]
  },
  {
   "cell_type": "code",
   "execution_count": 176,
   "metadata": {
    "scrolled": true
   },
   "outputs": [
    {
     "data": {
      "text/plain": [
       "[array([1.80018573, 2.94718572, 3.90842854]),\n",
       " array([2.349     , 3.82299995, 4.72999998]),\n",
       " array([2.44299999, 3.71899993, 4.63000001])]"
      ]
     },
     "execution_count": 176,
     "metadata": {},
     "output_type": "execute_result"
    }
   ],
   "source": [
    "# جمع ردیف ها با یکدیگر\n",
    "sum_row = [sum(row) for row in w_matrix ]\n",
    "sum_row"
   ]
  },
  {
   "cell_type": "code",
   "execution_count": 183,
   "metadata": {},
   "outputs": [],
   "source": [
    "# تابع روش مساحت \n",
    "def fuzzy_p(pa,pb):\n",
    "    print(pa[0]-pb[2],pa[1]-pb[1],pa[2]-pb[0])"
   ]
  },
  {
   "cell_type": "code",
   "execution_count": 181,
   "metadata": {},
   "outputs": [
    {
     "name": "stdout",
     "output_type": "stream",
     "text": [
      "-2.829814281463623 -0.7718142151832574 1.4654285466670989\n"
     ]
    }
   ],
   "source": [
    "fuzzy_p(sum_row[0],sum_row[2])"
   ]
  }
 ],
 "metadata": {
  "kernelspec": {
   "display_name": "Python 3",
   "language": "python",
   "name": "python3"
  },
  "language_info": {
   "codemirror_mode": {
    "name": "ipython",
    "version": 3
   },
   "file_extension": ".py",
   "mimetype": "text/x-python",
   "name": "python",
   "nbconvert_exporter": "python",
   "pygments_lexer": "ipython3",
   "version": "3.8.5"
  }
 },
 "nbformat": 4,
 "nbformat_minor": 4
}
