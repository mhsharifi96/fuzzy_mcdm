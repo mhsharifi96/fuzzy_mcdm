{
 "cells": [
  {
   "cell_type": "code",
   "execution_count": 34,
   "metadata": {},
   "outputs": [],
   "source": [
    "import  numpy as np\n",
    "import math"
   ]
  },
  {
   "cell_type": "code",
   "execution_count": 20,
   "metadata": {},
   "outputs": [],
   "source": [
    "# نوشتن وزن ها علامت ها و اعدادی که باید به ان تقسیم شود\n",
    "sign_number = [2.5,2700,21000,4.5,1,1]\n",
    "sign = [\"+\",\"+\",\"+\",\"-\",\"+\",\"+\"]\n",
    "weight = np.array([[0.6,0.675,0.75],[0.4,0.5,0.6],[0.4,0.5,0.6],[0.4,0.5,0.6],[0.75,0.825,0.9],[0.9,0.95,1]],dtype=float)"
   ]
  },
  {
   "cell_type": "code",
   "execution_count": 21,
   "metadata": {},
   "outputs": [],
   "source": [
    "matrix = np.array([\n",
    "    [[2],[1500],[20000],[5.5],[0.3,0.5,0.7],[0.9,0.95,1]],\n",
    "    [[2.5],[2700],[18000],[6.5],[0.1,0.2,0.3],[0.2,0.5,0.7]],\n",
    "    [[1.8],[2000],[21000],[4.5],[0.7,0.8,0.9],[0.7,0.8,9]],\n",
    "    [[2.2],[1800],[20000],[5.0],[0.3,0.5,0.7],[0.3,0.5,0.7]],\n",
    "],dtype=\"object\")\n"
   ]
  },
  {
   "cell_type": "code",
   "execution_count": 22,
   "metadata": {},
   "outputs": [],
   "source": [
    "normal_matrix1=[]\n",
    "for index,row in enumerate(matrix):\n",
    "    for idx,col in enumerate(row):\n",
    "        if sign[idx]==\"+\":\n",
    "          res = np.array(col, dtype=np.float32)/sign_number[idx]\n",
    "        \n",
    "        else: res = sign_number[idx]/np.array(col, dtype=np.float32)\n",
    "#         print(res)\n",
    "        normal_matrix1.append(res)\n",
    "#     print(\"---------\")\n",
    "#     print(normal_matrix)"
   ]
  },
  {
   "cell_type": "code",
   "execution_count": 41,
   "metadata": {},
   "outputs": [
    {
     "name": "stdout",
     "output_type": "stream",
     "text": [
      "[[array([0.8], dtype=float32) array([0.5555556], dtype=float32)\n",
      "  array([0.95238096], dtype=float32) array([0.8181818], dtype=float32)\n",
      "  array([0.3, 0.5, 0.7], dtype=float32)\n",
      "  array([0.9 , 0.95, 1.  ], dtype=float32)]\n",
      " [array([1.], dtype=float32) array([1.], dtype=float32)\n",
      "  array([0.85714287], dtype=float32) array([0.6923077], dtype=float32)\n",
      "  array([0.1, 0.2, 0.3], dtype=float32)\n",
      "  array([0.2, 0.5, 0.7], dtype=float32)]\n",
      " [array([0.71999997], dtype=float32) array([0.7407407], dtype=float32)\n",
      "  array([1.], dtype=float32) array([1.], dtype=float32)\n",
      "  array([0.7, 0.8, 0.9], dtype=float32)\n",
      "  array([0.7, 0.8, 9. ], dtype=float32)]\n",
      " [array([0.88], dtype=float32) array([0.6666667], dtype=float32)\n",
      "  array([0.95238096], dtype=float32) array([0.9], dtype=float32)\n",
      "  array([0.3, 0.5, 0.7], dtype=float32)\n",
      "  array([0.3, 0.5, 0.7], dtype=float32)]]\n"
     ]
    }
   ],
   "source": [
    "# ماتریس R\n",
    "# ماتریس نرمال شده \n",
    "normal_matrix =np.reshape(np.asarray(normal_matrix1, dtype=object),matrix.shape)\n",
    "print(normal_matrix)"
   ]
  },
  {
   "cell_type": "code",
   "execution_count": 24,
   "metadata": {},
   "outputs": [],
   "source": [
    "w_matrix = []\n",
    "for nrow in normal_matrix:\n",
    "    for index,col in enumerate(nrow):\n",
    "        res = col*weight[index]\n",
    "        w_matrix.append(res)"
   ]
  },
  {
   "cell_type": "code",
   "execution_count": 31,
   "metadata": {},
   "outputs": [
    {
     "data": {
      "text/plain": [
       "array([[[0.48000001, 0.54000001, 0.60000001],\n",
       "        [0.22222223, 0.27777779, 0.33333335],\n",
       "        [0.38095238, 0.47619048, 0.57142857],\n",
       "        [0.32727273, 0.40909091, 0.49090909],\n",
       "        [0.22500001, 0.4125    , 0.62999999],\n",
       "        [0.80999998, 0.90249999, 1.        ]],\n",
       "\n",
       "       [[0.6       , 0.675     , 0.75      ],\n",
       "        [0.4       , 0.5       , 0.6       ],\n",
       "        [0.34285715, 0.42857143, 0.51428572],\n",
       "        [0.27692308, 0.34615386, 0.41538463],\n",
       "        [0.075     , 0.165     , 0.27000001],\n",
       "        [0.18      , 0.475     , 0.69999999]],\n",
       "\n",
       "       [[0.43199998, 0.48599998, 0.53999998],\n",
       "        [0.29629629, 0.37037036, 0.44444443],\n",
       "        [0.4       , 0.5       , 0.6       ],\n",
       "        [0.4       , 0.5       , 0.6       ],\n",
       "        [0.52499999, 0.66000001, 0.80999998],\n",
       "        [0.62999999, 0.76000001, 9.        ]],\n",
       "\n",
       "       [[0.528     , 0.594     , 0.66      ],\n",
       "        [0.26666667, 0.33333334, 0.40000001],\n",
       "        [0.38095238, 0.47619048, 0.57142857],\n",
       "        [0.35999999, 0.44999999, 0.53999999],\n",
       "        [0.22500001, 0.4125    , 0.62999999],\n",
       "        [0.27000001, 0.475     , 0.69999999]]])"
      ]
     },
     "execution_count": 31,
     "metadata": {},
     "output_type": "execute_result"
    }
   ],
   "source": [
    "# ماتریس v\n",
    "# ماتریس نرمال شده ضرب در ماتریس وزن ها\n",
    "w_matrix=np.reshape(np.asarray(w_matrix, dtype=float),(4,6,3))\n",
    "w_matrix"
   ]
  },
  {
   "cell_type": "code",
   "execution_count": 39,
   "metadata": {},
   "outputs": [],
   "source": [
    "def distance(a,b):\n",
    "    res = math.sqrt((1/3*(((a[0]-b[0])**2)+((a[1]-b[1])**2)+((a[2]-b[2])**2))))\n",
    "    print(res)\n",
    "    "
   ]
  },
  {
   "cell_type": "code",
   "execution_count": 42,
   "metadata": {},
   "outputs": [
    {
     "name": "stdout",
     "output_type": "stream",
     "text": [
      "0.054221796724203984\n"
     ]
    }
   ],
   "source": [
    "distance([0.43199998, 0.48599998, 0.53999998],[0.48000001, 0.54000001, 0.60000001])"
   ]
  }
 ],
 "metadata": {
  "kernelspec": {
   "display_name": "Python 3",
   "language": "python",
   "name": "python3"
  },
  "language_info": {
   "codemirror_mode": {
    "name": "ipython",
    "version": 3
   },
   "file_extension": ".py",
   "mimetype": "text/x-python",
   "name": "python",
   "nbconvert_exporter": "python",
   "pygments_lexer": "ipython3",
   "version": "3.8.5"
  }
 },
 "nbformat": 4,
 "nbformat_minor": 4
}
