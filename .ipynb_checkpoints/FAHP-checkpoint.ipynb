{
 "cells": [
  {
   "cell_type": "code",
   "execution_count": 120,
   "metadata": {},
   "outputs": [],
   "source": [
    "import numpy as np\n",
    "# from pprint import pprint"
   ]
  },
  {
   "cell_type": "code",
   "execution_count": 121,
   "metadata": {},
   "outputs": [
    {
     "data": {
      "text/plain": [
       "(4, 4, 3)"
      ]
     },
     "execution_count": 121,
     "metadata": {},
     "output_type": "execute_result"
    }
   ],
   "source": [
    "## FAHP \n",
    "\n",
    "\n",
    "PairedMatrix = np.array([\n",
    "    [[1,1,1],[1/2,2/3,1],[1.5,2,2.5],[2/5,0.5,2/3]],\n",
    "    [[1,3/2,2],[1,1,1],[3/2,2,5/2],[2/3,1,2]],\n",
    "    [[2/5,1/2,2/3],[2/5,1/2,2/3],[1,1,1],[1/3,2/5,1/2]],\n",
    "    [[3/2,2,5/2],[1/2,1,3/2],[2,5/2,3],[1,1,1]],\n",
    "], dtype='f')\n",
    "\n",
    "PairedMatrix.ndim\n",
    "PairedMatrix.shape\n",
    "\n",
    "\n"
   ]
  },
  {
   "cell_type": "code",
   "execution_count": 161,
   "metadata": {},
   "outputs": [],
   "source": [
    "# بدست اوردن مجموع ردیف ها\n",
    "def sumRowMatrix(PairedMatrix):\n",
    "    sumRow = np.array([])\n",
    "    for arr in PairedMatrix : \n",
    "\n",
    "        if sumRow.size ==0 : \n",
    "            sumRow = np.hstack((sumRow, sum(arr)))\n",
    "        else:  sumRow = np.vstack((sumRow, sum(arr)))\n",
    "    print('بدست اوردن مجموع ردیف ها')\n",
    "    print(sumRow)\n",
    "    print(\"------------------\")\n",
    "    sumOfSumRow = sum(sumRow)\n",
    "    print('بدست آوردن مجموع مجموع ردیف ها')\n",
    "    print(sumOfSumRow)\n",
    "    print(\"------------------\")\n",
    "    print('بدست اوردن وزن معکوس')\n",
    "    reverseSum = np.array([1/sumOfSumRow[2],1/sumOfSumRow[1],1/sumOfSumRow[0]])\n",
    "    print(reverseSum)\n",
    "    print(\"------------------\")\n",
    "    print(\"بدست اوردن اس ها\")\n",
    "    for index,sr in enumerate(sumRow) :\n",
    "        res = sr*reverseSum\n",
    "        print(\"s\",index,\":\",res)\n",
    "        for  idx,nextRow in enumerate(sumRow):\n",
    "            if index != idx:\n",
    "                nextRes = nextRow*reverseSum\n",
    "                if res[1]>=nextRes[1]:\n",
    "                    print('s'+str(index),\">=\",'s'+str(idx),'=',1)\n",
    "                elif(nextRes[0]>=res[2]):\n",
    "                    print('s'+str(index),\">=\",'s'+str(idx),\"=\",0)\n",
    "                else :\n",
    "                    otherwise = (nextRes[0] - res[2])/((res[1]-res[2])-(nextRes[1]-nextRes[0]))\n",
    "                    print('s'+str(index),\">=\",'s'+str(idx),\"=\",otherwise)\n",
    "        print('-------------')\n",
    "                \n",
    "            \n",
    "\n"
   ]
  },
  {
   "cell_type": "code",
   "execution_count": 162,
   "metadata": {},
   "outputs": [
    {
     "name": "stdout",
     "output_type": "stream",
     "text": [
      "بدست اوردن مجموع ردیف ها\n",
      "[[3.4000001  4.16666698 5.16666651]\n",
      " [4.16666651 5.5        7.5       ]\n",
      " [2.13333321 2.4000001  2.83333349]\n",
      " [5.         6.5        8.        ]]\n",
      "------------------\n",
      "بدست آوردن مجموع مجموع ردیف ها\n",
      "[14.69999981 18.56666708 23.5       ]\n",
      "------------------\n",
      "بدست اوردن وزن معکوس\n",
      "[0.04255319 0.05385996 0.06802721]\n",
      "------------------\n",
      "بدست اوردن اس ها\n",
      "s 0 : [0.14468086 0.22441653 0.35147392]\n",
      "s0 >= s1 = 0.7080550573973856\n",
      "s0 >= s2 = 1\n",
      "s0 >= s3 = 0.5246513937481416\n",
      "-------------\n",
      "s 1 : [0.17730496 0.2962298  0.51020409]\n",
      "s1 >= s0 = 1\n",
      "s1 >= s2 = 1\n",
      "s1 >= s3 = 0.8466830197476786\n",
      "-------------\n",
      "s 2 : [0.09078014 0.12926392 0.19274378]\n",
      "s2 >= s0 = 0.33559852434003445\n",
      "s2 >= s1 = 0.0846404711546795\n",
      "s2 >= s3 = 0\n",
      "-------------\n",
      "s 3 : [0.21276596 0.35008976 0.54421769]\n",
      "s3 >= s0 = 1\n",
      "s3 >= s1 = 1\n",
      "s3 >= s2 = 1\n",
      "-------------\n"
     ]
    }
   ],
   "source": [
    "sumRowMatrix(PairedMatrix)"
   ]
  },
  {
   "cell_type": "code",
   "execution_count": 124,
   "metadata": {},
   "outputs": [],
   "source": [
    "#بدست اوردن مجموع مجموع ردیف ها\n",
    "sumOfSumRow = sum(sumRow)   "
   ]
  },
  {
   "cell_type": "code",
   "execution_count": 81,
   "metadata": {},
   "outputs": [
    {
     "data": {
      "text/plain": [
       "array([0.04255319, 0.05385996, 0.06802721])"
      ]
     },
     "execution_count": 81,
     "metadata": {},
     "output_type": "execute_result"
    }
   ],
   "source": [
    "# معکوس کردن ماتریس مجموع مجموع\n",
    "reverseSum = np.array([1/sumOfSumRow[2],1/sumOfSumRow[1],1/sumOfSumRow[0]])\n",
    "reverseSum"
   ]
  },
  {
   "cell_type": "code",
   "execution_count": 89,
   "metadata": {},
   "outputs": [
    {
     "name": "stdout",
     "output_type": "stream",
     "text": [
      "s 0 : [0.14468086 0.22441653 0.35147392]\n",
      "s 1 : [0.17730496 0.2962298  0.51020409]\n",
      "s 2 : [0.09078014 0.12926392 0.19274378]\n",
      "s 3 : [0.21276596 0.35008976 0.54421769]\n"
     ]
    }
   ],
   "source": [
    "for index,sr in enumerate(sumRow) :\n",
    "    print(\"s\",index,\":\",sr*reverseSum)"
   ]
  },
  {
   "cell_type": "code",
   "execution_count": 125,
   "metadata": {},
   "outputs": [],
   "source": [
    "p1= np.array([\n",
    "    [[1,1,1],[2/3,1,2]],\n",
    "    [[1/2,1,3/2],[1,1,1]]\n",
    "], dtype='f')\n",
    "p2= np.array([\n",
    "    [[1,1,1],[0.5,2/3,1]],\n",
    "    [[1,1.5,2],[1,1,1]]\n",
    "], dtype='f')\n",
    "p3= np.array([\n",
    "    [[1,1,1],[1,1.5,2]],\n",
    "    [[1/2,2/3,1],[1,1,1]]\n",
    "], dtype='f')\n",
    "p4= np.array([\n",
    "    [[1,1,1],[2/3,1,2]],\n",
    "    [[1/2,1,3/2],[1,1,1]]\n",
    "], dtype='f')\n",
    "\n"
   ]
  },
  {
   "cell_type": "code",
   "execution_count": 163,
   "metadata": {},
   "outputs": [
    {
     "name": "stdout",
     "output_type": "stream",
     "text": [
      "بدست اوردن مجموع ردیف ها\n",
      "[[1.66666675 2.         3.        ]\n",
      " [1.5        2.         2.5       ]]\n",
      "------------------\n",
      "بدست آوردن مجموع مجموع ردیف ها\n",
      "[3.16666675 4.         5.5       ]\n",
      "------------------\n",
      "بدست اوردن وزن معکوس\n",
      "[0.18181818 0.25       0.31578947]\n",
      "------------------\n",
      "بدست اوردن اس ها\n",
      "s 0 : [0.30303032 0.5        0.9473684 ]\n",
      "s0 >= s1 = 1\n",
      "-------------\n",
      "s 1 : [0.27272727 0.5        0.78947366]\n",
      "s1 >= s0 = 1\n",
      "-------------\n"
     ]
    }
   ],
   "source": [
    "sumRowMatrix(p1)"
   ]
  },
  {
   "cell_type": "code",
   "execution_count": 164,
   "metadata": {},
   "outputs": [
    {
     "name": "stdout",
     "output_type": "stream",
     "text": [
      "بدست اوردن مجموع ردیف ها\n",
      "[[1.5        1.66666675 2.        ]\n",
      " [2.         2.5        3.        ]]\n",
      "------------------\n",
      "بدست آوردن مجموع مجموع ردیف ها\n",
      "[3.5        4.16666675 5.        ]\n",
      "------------------\n",
      "بدست اوردن وزن معکوس\n",
      "[0.2        0.24       0.28571429]\n",
      "------------------\n",
      "بدست اوردن اس ها\n",
      "s 0 : [0.3        0.40000001 0.57142857]\n",
      "s0 >= s1 = 0.4615384899794009\n",
      "-------------\n",
      "s 1 : [0.4        0.59999999 0.85714286]\n",
      "s1 >= s0 = 1\n",
      "-------------\n"
     ]
    }
   ],
   "source": [
    "sumRowMatrix(p2)"
   ]
  },
  {
   "cell_type": "code",
   "execution_count": 165,
   "metadata": {},
   "outputs": [
    {
     "name": "stdout",
     "output_type": "stream",
     "text": [
      "بدست اوردن مجموع ردیف ها\n",
      "[[2.         2.5        3.        ]\n",
      " [1.5        1.66666675 2.        ]]\n",
      "------------------\n",
      "بدست آوردن مجموع مجموع ردیف ها\n",
      "[3.5        4.16666675 5.        ]\n",
      "------------------\n",
      "بدست اوردن وزن معکوس\n",
      "[0.2        0.24       0.28571429]\n",
      "------------------\n",
      "بدست اوردن اس ها\n",
      "s 0 : [0.4        0.59999999 0.85714286]\n",
      "s0 >= s1 = 1\n",
      "-------------\n",
      "s 1 : [0.3        0.40000001 0.57142857]\n",
      "s1 >= s0 = 0.4615384899794009\n",
      "-------------\n"
     ]
    }
   ],
   "source": [
    "sumRowMatrix(p3)"
   ]
  },
  {
   "cell_type": "code",
   "execution_count": 166,
   "metadata": {},
   "outputs": [
    {
     "name": "stdout",
     "output_type": "stream",
     "text": [
      "بدست اوردن مجموع ردیف ها\n",
      "[[1.66666675 2.         3.        ]\n",
      " [1.5        2.         2.5       ]]\n",
      "------------------\n",
      "بدست آوردن مجموع مجموع ردیف ها\n",
      "[3.16666675 4.         5.5       ]\n",
      "------------------\n",
      "بدست اوردن وزن معکوس\n",
      "[0.18181818 0.25       0.31578947]\n",
      "------------------\n",
      "بدست اوردن اس ها\n",
      "s 0 : [0.30303032 0.5        0.9473684 ]\n",
      "s0 >= s1 = 1\n",
      "-------------\n",
      "s 1 : [0.27272727 0.5        0.78947366]\n",
      "s1 >= s0 = 1\n",
      "-------------\n"
     ]
    }
   ],
   "source": [
    "sumRowMatrix(p4)"
   ]
  }
 ],
 "metadata": {
  "kernelspec": {
   "display_name": "Python 3",
   "language": "python",
   "name": "python3"
  },
  "language_info": {
   "codemirror_mode": {
    "name": "ipython",
    "version": 3
   },
   "file_extension": ".py",
   "mimetype": "text/x-python",
   "name": "python",
   "nbconvert_exporter": "python",
   "pygments_lexer": "ipython3",
   "version": "3.8.5"
  }
 },
 "nbformat": 4,
 "nbformat_minor": 4
}
