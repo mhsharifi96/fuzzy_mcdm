{
 "cells": [
  {
   "cell_type": "markdown",
   "metadata": {},
   "source": [
    "# روش الکتره فازی"
   ]
  },
  {
   "cell_type": "code",
   "execution_count": 25,
   "metadata": {},
   "outputs": [],
   "source": [
    "import  numpy as np\n"
   ]
  },
  {
   "cell_type": "code",
   "execution_count": 26,
   "metadata": {},
   "outputs": [
    {
     "data": {
      "text/plain": [
       "(3, 4, 4)"
      ]
     },
     "execution_count": 26,
     "metadata": {},
     "output_type": "execute_result"
    }
   ],
   "source": [
    "# ماتریس فازی را اینجا مینویسم\n",
    "\n",
    "data_array = np.array([\n",
    "    [[0.583,0.725,0.768,0.873],[0.594,0.708,0.738,0.841],[0.575,0.752,0.786,0.916],[0.596,0.701,0.732,0.837]],\n",
    "    [[0.197,0.476,0.514,0.799],[0.615,0.757,0.799,0.905],[0.73,0.852,0.934,0.979],[0.502,0.652,0.681,0.783]],\n",
    "    [[0.682,0.814,0.854,0.936],[0.626,0.761,0.78,0.888],[0.498,0.636,0.684,0.829],[0.474,0.581,0.645,0.758]],\n",
    "],dtype=\"float\")\n",
    "data_array.shape"
   ]
  },
  {
   "cell_type": "code",
   "execution_count": 27,
   "metadata": {},
   "outputs": [],
   "source": [
    "# وزن های مورد نظر را اینجا مینویسیم\n",
    "weight = [0.218,0.041,0.183,0.558]\n"
   ]
  },
  {
   "cell_type": "code",
   "execution_count": 28,
   "metadata": {},
   "outputs": [],
   "source": [
    "w_matrix = []\n",
    "for nrow in data_array:\n",
    "    for index,col in enumerate(nrow):\n",
    "        res = col*weight[index]\n",
    "        w_matrix.append(res)"
   ]
  },
  {
   "cell_type": "code",
   "execution_count": 34,
   "metadata": {},
   "outputs": [
    {
     "data": {
      "text/plain": [
       "(3, 4, 4)"
      ]
     },
     "execution_count": 34,
     "metadata": {},
     "output_type": "execute_result"
    }
   ],
   "source": [
    "# ماتریس نرمال شده\n",
    "# ماتریسی که وزن در ماتریس فازی اصلی ضرب شده است\n",
    "w_matrix=np.reshape(np.asarray(w_matrix, dtype=float),data_array.shape)\n",
    "w_matrix\n",
    "# w_matrix.shape"
   ]
  },
  {
   "cell_type": "code",
   "execution_count": 35,
   "metadata": {},
   "outputs": [
    {
     "data": {
      "text/plain": [
       "array([[0.1607205 , 0.02953025, 0.13857675, 0.399807  ],\n",
       "       [0.108237  , 0.031529  , 0.15989625, 0.365211  ],\n",
       "       [0.179087  , 0.03131375, 0.12110025, 0.342891  ]])"
      ]
     },
     "execution_count": 35,
     "metadata": {},
     "output_type": "execute_result"
    }
   ],
   "source": [
    "dfuzzy = []\n",
    "for nrow in w_matrix:\n",
    "    for index,col in enumerate(nrow):\n",
    "#         print(col.sum()/len(col))\n",
    "        dfuzzy.append(col.sum()/len(col))\n",
    "dfuzzy=np.reshape(np.asarray(dfuzzy, dtype=float),(3,4))\n",
    "dfuzzy"
   ]
  },
  {
   "cell_type": "markdown",
   "metadata": {},
   "source": [
    "تشکیل مجموعه های هماهنگی و نا هماهنگی"
   ]
  },
  {
   "cell_type": "code",
   "execution_count": null,
   "metadata": {},
   "outputs": [],
   "source": [
    "تشکیل ماتریس بولینی "
   ]
  },
  {
   "cell_type": "code",
   "execution_count": null,
   "metadata": {},
   "outputs": [],
   "source": [
    "تشکیل ماتریس چیرگی"
   ]
  },
  {
   "cell_type": "code",
   "execution_count": null,
   "metadata": {},
   "outputs": [],
   "source": []
  }
 ],
 "metadata": {
  "kernelspec": {
   "display_name": "Python 3",
   "language": "python",
   "name": "python3"
  },
  "language_info": {
   "codemirror_mode": {
    "name": "ipython",
    "version": 3
   },
   "file_extension": ".py",
   "mimetype": "text/x-python",
   "name": "python",
   "nbconvert_exporter": "python",
   "pygments_lexer": "ipython3",
   "version": "3.8.5"
  }
 },
 "nbformat": 4,
 "nbformat_minor": 4
}
